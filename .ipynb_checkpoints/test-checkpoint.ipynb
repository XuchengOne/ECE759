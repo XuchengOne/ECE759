{
 "cells": [
  {
   "cell_type": "code",
   "execution_count": 14,
   "metadata": {},
   "outputs": [],
   "source": [
    "import numpy as np"
   ]
  },
  {
   "cell_type": "code",
   "execution_count": 15,
   "metadata": {},
   "outputs": [],
   "source": [
    "mxlg = 1"
   ]
  },
  {
   "cell_type": "code",
   "execution_count": 16,
   "metadata": {},
   "outputs": [
    {
     "name": "stdout",
     "output_type": "stream",
     "text": [
      "[[ 1  2]\n",
      " [ 3  4]\n",
      " [ 5  6]\n",
      " [ 7  8]\n",
      " [ 9 10]\n",
      " [11 12]\n",
      " [13 14]\n",
      " [15 16]\n",
      " [17 18]\n",
      " [19 20]]\n"
     ]
    }
   ],
   "source": [
    "X = np.arange(1,21).reshape(-1,2)\n",
    "print(X)"
   ]
  },
  {
   "cell_type": "markdown",
   "metadata": {},
   "source": [
    "# granger causality tests\n",
    "[source](https://www.statsmodels.org/stable/_modules/statsmodels/tsa/stattools.html#grangercausalitytests)"
   ]
  },
  {
   "cell_type": "code",
   "execution_count": 17,
   "metadata": {},
   "outputs": [],
   "source": [
    "from statsmodels.tsa.stattools import grangercausalitytests"
   ]
  },
  {
   "cell_type": "code",
   "execution_count": 18,
   "metadata": {},
   "outputs": [
    {
     "name": "stdout",
     "output_type": "stream",
     "text": [
      "\n",
      "Granger Causality\n",
      "number of lags (no zero) 1\n",
      "ssr based F test:         F=-2.0974 , p=1.0000  , df_denom=7, df_num=1\n",
      "ssr based chi2 test:   chi2=-2.6966 , p=1.0000  , df=1\n",
      "likelihood ratio test: chi2=-3.2053 , p=1.0000  , df=1\n",
      "parameter F test:         F=1055677300917100063450772537344.0000, p=0.0000  , df_denom=7, df_num=1\n",
      "\n",
      "Granger Causality\n",
      "number of lags (no zero) 2\n",
      "ssr based F test:         F=-2.1792 , p=1.0000  , df_denom=6, df_num=2\n",
      "ssr based chi2 test:   chi2=-5.8111 , p=1.0000  , df=2\n",
      "likelihood ratio test: chi2=-10.3682, p=1.0000  , df=2\n",
      "parameter F test:         F=5450484665476453281425268932608.0000, p=0.0000  , df_denom=6, df_num=2\n"
     ]
    }
   ],
   "source": [
    "grangercausalitytests(X, mxlg, addconst=True, verbose=True);"
   ]
  },
  {
   "cell_type": "markdown",
   "metadata": {},
   "source": [
    "# lagmat2ds\n",
    "\n",
    "add lags see examples for details\n",
    "\n",
    "source [here](https://github.com/statsmodels/statsmodels/blob/1212616d27ab820d303377f0bcf421cd3f46c289/statsmodels/tsa/tsatools.py)\n",
    "\n",
    "search **lagmat2ds** "
   ]
  },
  {
   "cell_type": "code",
   "execution_count": 19,
   "metadata": {},
   "outputs": [],
   "source": [
    "import statsmodels.tsa.tsatools as tools"
   ]
  },
  {
   "cell_type": "markdown",
   "metadata": {},
   "source": [
    " dropex : int\n",
    "        Exclude first dropex lags from other variables. For all variables,\n",
    "        except the first, lags from dropex to maxlagex are included.\n",
    "        \n",
    "The first lag is dropped"
   ]
  },
  {
   "cell_type": "code",
   "execution_count": 20,
   "metadata": {},
   "outputs": [
    {
     "name": "stdout",
     "output_type": "stream",
     "text": [
      "[[ 5.  3.  1.  4.  2.]\n",
      " [ 7.  5.  3.  6.  4.]\n",
      " [ 9.  7.  5.  8.  6.]\n",
      " [11.  9.  7. 10.  8.]\n",
      " [13. 11.  9. 12. 10.]\n",
      " [15. 13. 11. 14. 12.]\n",
      " [17. 15. 13. 16. 14.]\n",
      " [19. 17. 15. 18. 16.]]\n"
     ]
    }
   ],
   "source": [
    "dta = tools.lagmat2ds(X, mxlg, trim='both', dropex=1)\n",
    "print(dta)"
   ]
  },
  {
   "cell_type": "markdown",
   "metadata": {},
   "source": [
    "# add constant\n",
    "nothing special, just add a constant as offset(intercept)\n",
    "source [here](https://github.com/statsmodels/statsmodels/blob/bb7222312b02e8907a8ec71d49909669d244e09a/statsmodels/tools/tools.py)\n",
    "\n",
    "search inside **add_constant**"
   ]
  },
  {
   "cell_type": "code",
   "execution_count": 21,
   "metadata": {},
   "outputs": [],
   "source": [
    "from statsmodels.tools.tools import add_constant"
   ]
  },
  {
   "cell_type": "code",
   "execution_count": 22,
   "metadata": {},
   "outputs": [],
   "source": [
    "dtaown = add_constant(dta[:, 1:(mxlg + 1)], prepend=False)\n",
    "dtajoint = add_constant(dta[:, 1:], prepend=False)"
   ]
  },
  {
   "cell_type": "code",
   "execution_count": 23,
   "metadata": {},
   "outputs": [
    {
     "name": "stdout",
     "output_type": "stream",
     "text": [
      "[[ 3.  1.  1.]\n",
      " [ 5.  3.  1.]\n",
      " [ 7.  5.  1.]\n",
      " [ 9.  7.  1.]\n",
      " [11.  9.  1.]\n",
      " [13. 11.  1.]\n",
      " [15. 13.  1.]\n",
      " [17. 15.  1.]]\n"
     ]
    }
   ],
   "source": [
    "print(dtaown)"
   ]
  },
  {
   "cell_type": "code",
   "execution_count": 24,
   "metadata": {},
   "outputs": [
    {
     "name": "stdout",
     "output_type": "stream",
     "text": [
      "[[ 3.  1.  4.  2.  1.]\n",
      " [ 5.  3.  6.  4.  1.]\n",
      " [ 7.  5.  8.  6.  1.]\n",
      " [ 9.  7. 10.  8.  1.]\n",
      " [11.  9. 12. 10.  1.]\n",
      " [13. 11. 14. 12.  1.]\n",
      " [15. 13. 16. 14.  1.]\n",
      " [17. 15. 18. 16.  1.]]\n"
     ]
    }
   ],
   "source": [
    "print(dtajoint)"
   ]
  },
  {
   "cell_type": "markdown",
   "metadata": {},
   "source": [
    "# OLS\n",
    "ordinary least square implementation source [here](https://github.com/statsmodels/statsmodels/blob/master/statsmodels/regression/linear_model.py)\n",
    "\n",
    "search **class OLS(WLS)**\n"
   ]
  },
  {
   "cell_type": "code",
   "execution_count": 25,
   "metadata": {},
   "outputs": [],
   "source": [
    "from statsmodels.regression.linear_model import OLS"
   ]
  },
  {
   "cell_type": "code",
   "execution_count": 26,
   "metadata": {},
   "outputs": [],
   "source": [
    "# dta[:,0] the array we want to predict\n",
    "# dtaown/ dtajoint the data we have\n",
    "res2down = OLS(dta[:, 0], dtaown).fit()\n",
    "res2djoint = OLS(dta[:, 0], dtajoint).fit()"
   ]
  },
  {
   "cell_type": "markdown",
   "metadata": {},
   "source": [
    "# hypothesis test\n",
    "nobs: number of observations\n",
    "ssr: \n",
    "\n",
    "let's just use [chi-square](https://github.com/scipy/scipy/blob/v1.4.1/scipy/stats/_continuous_distns.py)\n",
    "\n",
    "$f(x, k) = \\frac{1}{2^{k/2} \\Gamma \\left( k/2 \\right)}\n",
    "                   x^{k/2-1} \\exp \\left( -x/2 \\right)$\n",
    "                   \n",
    "                   \n",
    "sf is different, but we can manage that later, anyway just CPU calculation"
   ]
  },
  {
   "cell_type": "code",
   "execution_count": 27,
   "metadata": {},
   "outputs": [],
   "source": [
    "from scipy import stats"
   ]
  },
  {
   "cell_type": "code",
   "execution_count": 28,
   "metadata": {},
   "outputs": [
    {
     "name": "stdout",
     "output_type": "stream",
     "text": [
      "-5.811074918566775\n",
      "ssr based chi2 test:   chi2=-5.8111 , p=1.0000  , df=2\n"
     ]
    }
   ],
   "source": [
    "# Granger Causality test using ssr (ch2 statistic)\n",
    "fgc2 = res2down.nobs * (res2down.ssr - res2djoint.ssr) / res2djoint.ssr\n",
    "print(fgc2)\n",
    "print('ssr based chi2 test:   chi2=%-8.4f, p=%-8.4f, '\n",
    "      'df=%d' % (fgc2, stats.chi2.sf(fgc2, mxlg), mxlg))"
   ]
  },
  {
   "cell_type": "code",
   "execution_count": 29,
   "metadata": {},
   "outputs": [
    {
     "data": {
      "text/plain": [
       "0.6065306597126334"
      ]
     },
     "execution_count": 29,
     "metadata": {},
     "output_type": "execute_result"
    }
   ],
   "source": [
    "stats.chi2.sf(1, 2)"
   ]
  },
  {
   "cell_type": "code",
   "execution_count": 30,
   "metadata": {},
   "outputs": [
    {
     "data": {
      "text/plain": [
       "1.0"
      ]
     },
     "execution_count": 30,
     "metadata": {},
     "output_type": "execute_result"
    }
   ],
   "source": [
    "stats.chi2.sf(-5.811074918566775, 2)"
   ]
  },
  {
   "cell_type": "code",
   "execution_count": 31,
   "metadata": {},
   "outputs": [
    {
     "data": {
      "text/plain": [
       "1.0"
      ]
     },
     "execution_count": 31,
     "metadata": {},
     "output_type": "execute_result"
    }
   ],
   "source": [
    "stats.chi2.sf(-0.1, 2)"
   ]
  },
  {
   "cell_type": "code",
   "execution_count": 32,
   "metadata": {},
   "outputs": [
    {
     "data": {
      "text/plain": [
       "8.0"
      ]
     },
     "execution_count": 32,
     "metadata": {},
     "output_type": "execute_result"
    }
   ],
   "source": [
    "res2down.nobs"
   ]
  },
  {
   "cell_type": "code",
   "execution_count": null,
   "metadata": {},
   "outputs": [],
   "source": []
  }
 ],
 "metadata": {
  "kernelspec": {
   "display_name": "Python 3",
   "language": "python",
   "name": "python3"
  },
  "language_info": {
   "codemirror_mode": {
    "name": "ipython",
    "version": 3
   },
   "file_extension": ".py",
   "mimetype": "text/x-python",
   "name": "python",
   "nbconvert_exporter": "python",
   "pygments_lexer": "ipython3",
   "version": "3.8.1"
  }
 },
 "nbformat": 4,
 "nbformat_minor": 4
}
