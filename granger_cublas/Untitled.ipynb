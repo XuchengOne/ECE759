{
 "cells": [
  {
   "cell_type": "code",
   "execution_count": 1,
   "metadata": {},
   "outputs": [],
   "source": [
    "import numpy as np\n",
    "from statsmodels.tsa.stattools import grangercausalitytests"
   ]
  },
  {
   "cell_type": "code",
   "execution_count": 21,
   "metadata": {},
   "outputs": [],
   "source": [
    "with open('x1.txt', 'r') as f:\n",
    "    x1 = f.read().splitlines()\n",
    "with open('x2.txt', 'r') as f:\n",
    "    x2 = f.read().splitlines()"
   ]
  },
  {
   "cell_type": "code",
   "execution_count": 22,
   "metadata": {},
   "outputs": [],
   "source": [
    "X = np.array([x1,x2]).astype(\"double\").T\n",
    "mxlg = 1"
   ]
  },
  {
   "cell_type": "code",
   "execution_count": 23,
   "metadata": {},
   "outputs": [
    {
     "name": "stdout",
     "output_type": "stream",
     "text": [
      "\n",
      "Granger Causality\n",
      "number of lags (no zero) 1\n",
      "ssr based F test:         F=0.4443  , p=0.5050  , df_denom=32764, df_num=1\n",
      "ssr based chi2 test:   chi2=0.4444  , p=0.5050  , df=1\n",
      "likelihood ratio test: chi2=0.4444  , p=0.5050  , df=1\n",
      "parameter F test:         F=0.4443  , p=0.5050  , df_denom=32764, df_num=1\n",
      "CPU times: user 71.3 ms, sys: 3.06 ms, total: 74.4 ms\n",
      "Wall time: 20.8 ms\n"
     ]
    },
    {
     "data": {
      "text/plain": [
       "{1: ({'ssr_ftest': (0.44432809275014223, 0.5050455265366172, 32764.0, 1),\n",
       "   'ssr_chi2test': (0.44436877716835277, 0.5050213349637784, 1),\n",
       "   'lrtest': (0.4443657640076708, 0.505022778967122, 1),\n",
       "   'params_ftest': (0.4443280927341542, 0.5050455265453339, 32764.0, 1.0)},\n",
       "  [<statsmodels.regression.linear_model.RegressionResultsWrapper at 0x7f5c0cd428e0>,\n",
       "   <statsmodels.regression.linear_model.RegressionResultsWrapper at 0x7f5c0cd42880>,\n",
       "   array([[0., 1., 0.]])])}"
      ]
     },
     "execution_count": 23,
     "metadata": {},
     "output_type": "execute_result"
    }
   ],
   "source": [
    "%%time\n",
    "grangercausalitytests(X, mxlg, addconst=True, verbose=True);"
   ]
  },
  {
   "cell_type": "code",
   "execution_count": null,
   "metadata": {},
   "outputs": [],
   "source": []
  }
 ],
 "metadata": {
  "kernelspec": {
   "display_name": "Python 3",
   "language": "python",
   "name": "python3"
  },
  "language_info": {
   "codemirror_mode": {
    "name": "ipython",
    "version": 3
   },
   "file_extension": ".py",
   "mimetype": "text/x-python",
   "name": "python",
   "nbconvert_exporter": "python",
   "pygments_lexer": "ipython3",
   "version": "3.8.1"
  }
 },
 "nbformat": 4,
 "nbformat_minor": 4
}
